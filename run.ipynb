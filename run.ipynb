{
 "cells": [
  {
   "cell_type": "markdown",
   "source": [
    "## Simulation run file"
   ],
   "metadata": {
    "collapsed": false,
    "pycharm": {
     "name": "#%% md\n"
    }
   }
  },
  {
   "cell_type": "markdown",
   "source": [
    "###### Jupyter extensions"
   ],
   "metadata": {
    "collapsed": false
   }
  },
  {
   "cell_type": "code",
   "execution_count": null,
   "metadata": {
    "collapsed": true
   },
   "outputs": [],
   "source": [
    "%load_ext autoreload\n",
    "## auto-reload every module\n",
    "%autoreload 2"
   ]
  },
  {
   "cell_type": "markdown",
   "source": [
    "###### Python  imports"
   ],
   "metadata": {
    "collapsed": false
   }
  },
  {
   "cell_type": "code",
   "execution_count": null,
   "outputs": [],
   "source": [
    "import numpy as np\n",
    "import matplotlib.pyplot as plt\n",
    "from datetime import datetime\n",
    "\n",
    "from mesa.batchrunner import BatchRunner\n",
    "\n",
    "from simulation import InteractionModel\n",
    "from data_collection import compute_average_performance"
   ],
   "metadata": {
    "collapsed": false,
    "pycharm": {
     "name": "#%%\n"
    }
   }
  },
  {
   "cell_type": "markdown",
   "source": [
    "#### Model parameters"
   ],
   "metadata": {
    "collapsed": false,
    "pycharm": {
     "name": "#%% md\n"
    }
   }
  },
  {
   "cell_type": "code",
   "execution_count": null,
   "outputs": [],
   "source": [
    "fixed_params = {\n",
    "    \"beta\": 0.0,\n",
    "    \"alpha\": 0.5,\n",
    "    \"omega\": 0.5,\n",
    "    \"N\": 15,\n",
    "}\n",
    "variable_params = {\n",
    "    \"w\": np.arange(0.01, 1.01, 0.01)\n",
    "}\n",
    "\n",
    "batch_run = BatchRunner(\n",
    "    InteractionModel,\n",
    "    variable_params,\n",
    "    fixed_params,\n",
    "    iterations=400,\n",
    "    max_steps=300,\n",
    "    model_reporters={\"AP\": compute_average_performance}\n",
    ")\n",
    "\n",
    "\n",
    "run_name = fr\"run_iter_{batch_run.iterations}_rep_{datetime.now()}_beta_{fixed_params['beta']}\""
   ],
   "metadata": {
    "collapsed": false,
    "pycharm": {
     "name": "#%%\n"
    }
   }
  },
  {
   "cell_type": "markdown",
   "source": [
    "#### Run"
   ],
   "metadata": {
    "collapsed": false,
    "pycharm": {
     "name": "#%% md\n"
    }
   }
  },
  {
   "cell_type": "code",
   "execution_count": null,
   "outputs": [],
   "source": [
    "batch_run.run_all()\n",
    "run_data = batch_run.get_model_vars_dataframe()"
   ],
   "metadata": {
    "collapsed": false,
    "pycharm": {
     "name": "#%%\n"
    }
   }
  },
  {
   "cell_type": "markdown",
   "source": [
    "#### Data Analysis"
   ],
   "metadata": {
    "collapsed": false,
    "pycharm": {
     "name": "#%% md\n"
    }
   }
  },
  {
   "cell_type": "code",
   "execution_count": null,
   "outputs": [],
   "source": [
    "grouped = run_data.groupby(\"w\", as_index=False)\n",
    "data = grouped.aggregate(np.average)\n",
    "plt.scatter(data.w, data.AP)\n",
    "plt.show()\n",
    "plt.savefig(\"./data/\" + run_name+\".png\")\n",
    "run_data.to_csv(\"./data/\"+run_name)\n",
    "\n",
    "df = data.loc[:,['w', 'AP']]\n",
    "df.rolling(10).mean().plot.scatter(x='w', y='AP'); plt.show()"
   ],
   "metadata": {
    "collapsed": false,
    "pycharm": {
     "name": "#%%\n"
    }
   }
  }
 ],
 "metadata": {
  "kernelspec": {
   "display_name": "Python 3",
   "language": "python",
   "name": "python3"
  },
  "language_info": {
   "codemirror_mode": {
    "name": "ipython",
    "version": 2
   },
   "file_extension": ".py",
   "mimetype": "text/x-python",
   "name": "python",
   "nbconvert_exporter": "python",
   "pygments_lexer": "ipython2",
   "version": "2.7.6"
  }
 },
 "nbformat": 4,
 "nbformat_minor": 0
}